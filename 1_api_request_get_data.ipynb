{
 "cells": [
  {
   "attachments": {},
   "cell_type": "markdown",
   "metadata": {},
   "source": [
    "### API Request to Load Data from the NWS Data Downloads \n",
    "\n",
    "Notebook contents \n",
    "* Creating network connection to NWS website to download historical site data\n",
    "\n",
    "created by Cassie Lumbrazo\\\n",
    "last updated: Jan 2025\\\n",
    "run location: UAS linux\\\n",
    "python environment: **requests**"
   ]
  },
  {
   "cell_type": "code",
   "execution_count": 1,
   "metadata": {},
   "outputs": [],
   "source": [
    "# import packages \n",
    "%matplotlib inline\n",
    "\n",
    "# plotting packages \n",
    "import matplotlib as mpl\n",
    "import matplotlib.pyplot as plt\n",
    "import seaborn as sns \n",
    "\n",
    "sns.set_theme()\n",
    "# plt.rcParams['figure.figsize'] = [12,6] #overriding size\n",
    "\n",
    "# data packages \n",
    "import pandas as pd\n",
    "import numpy as np\n",
    "import xarray as xr\n",
    "from datetime import datetime\n",
    "\n",
    "import scipy\n",
    "from matplotlib.patches import Patch\n",
    "from matplotlib.colors import ListedColormap\n",
    "from matplotlib import ticker"
   ]
  },
  {
   "cell_type": "code",
   "execution_count": 2,
   "metadata": {},
   "outputs": [
    {
     "data": {
      "text/plain": [
       "'/home/cassie/python/repos/juneau_data_analysis'"
      ]
     },
     "execution_count": 2,
     "metadata": {},
     "output_type": "execute_result"
    }
   ],
   "source": [
    "pwd"
   ]
  },
  {
   "cell_type": "code",
   "execution_count": 3,
   "metadata": {},
   "outputs": [],
   "source": [
    "# # Paths for local machine\n",
    "# ds = xr.open_dataset('C:\\\\Users\\\\Lumbr\\\\OneDrive - UW/Documents\\\\Washington\\\\EasternCascades\\\\Python\\\\CER_treatment_manuscript\\\\cer_treatment_region_dataset_all_variables.nc') "
   ]
  },
  {
   "cell_type": "markdown",
   "metadata": {},
   "source": [
    "Created a new environment called \"requests\" for the requests package, then proceed"
   ]
  },
  {
   "cell_type": "code",
   "execution_count": 18,
   "metadata": {},
   "outputs": [],
   "source": [
    "import requests\n",
    "import json"
   ]
  },
  {
   "cell_type": "code",
   "execution_count": 5,
   "metadata": {},
   "outputs": [],
   "source": [
    "# Different dataset_id options, \n",
    "# LCD: Local Climatological Data for local observations\n",
    "# GHCND: Global Historical Climatology Network - Daily\n",
    "# GHCNh: Global Historical Climatology Network - Hourly\n",
    "# ISD: Integrated Surface Dataset for global hourly data"
   ]
  },
  {
   "cell_type": "code",
   "execution_count": 6,
   "metadata": {},
   "outputs": [
    {
     "name": "stdout",
     "output_type": "stream",
     "text": [
      "Request failed with status code 500\n",
      "Response content: <?xml version=\"1.0\" encoding=\"UTF-8\" standalone=\"yes\"?><response><statusCode>500</statusCode><userMessage>An unexpected error occured while servicing your request.</userMessage><developerMessage>An unexpected error occured while servicing your request.</developerMessage></response>\n"
     ]
    }
   ],
   "source": [
    "# api_token = \"your_api_token_here\"\n",
    "api_token = \"jTMjURmuxbSzHpMdeKfqdrifCRPSRNIE\" # created a personal token here: https://www.ncdc.noaa.gov/cdo-web/token\n",
    "\n",
    "headers = {'token': api_token}\n",
    "\n",
    "# Define station ID and time period\n",
    "station_id = \"PPSA2\" # powder patch eaglerest station (cite Iowa Environmental Mesonet)\n",
    "start_date = \"2023-10-01\"\n",
    "end_date = \"2023-10-15\"\n",
    "dataset = \"GHCNh\"  # For hourly data (Global Historical Climatology Network - Hourly)  (cite NCEI)\n",
    "\n",
    "# Create the url for the API request\n",
    "base_url = \"https://www.ncdc.noaa.gov/cdo-web/api/v2/data\"\n",
    "params = {\n",
    "    \"datasetid\": dataset,\n",
    "    \"stationid\": station_id,\n",
    "    \"startdate\": start_date,\n",
    "    \"enddate\": end_date,\n",
    "    \"limit\": 1000, # maximum records per request\n",
    "    \"units\": \"metric\", # options: metric, standard or imperial\n",
    "}\n",
    "\n",
    "# Make the API request\n",
    "response = requests.get(base_url, headers=headers, params=params)\n",
    "\n",
    "# Check the response status code\n",
    "if response.status_code == 200:\n",
    "    try:\n",
    "        # Parse the JSON data\n",
    "        data = response.json()\n",
    "        print(data)\n",
    "    except ValueError as e:\n",
    "        print(f\"Error decoding JSON: {e}\")\n",
    "else:\n",
    "    print(f\"Request failed with status code {response.status_code}\")\n",
    "    print(f\"Response content: {response.text}\")"
   ]
  },
  {
   "cell_type": "markdown",
   "metadata": {},
   "source": [
    "Try running for a region around Juneau, AK "
   ]
  },
  {
   "cell_type": "code",
   "execution_count": 25,
   "metadata": {},
   "outputs": [
    {
     "name": "stdout",
     "output_type": "stream",
     "text": [
      "{'metadata': {'resultset': {'offset': 1, 'count': 1, 'limit': 1000}}, 'results': [{'elevation': 5.9, 'mindate': '1948-07-01', 'maxdate': '2025-01-17', 'latitude': 58.354, 'name': 'JUNEAU AIRPORT, AK US', 'datacoverage': 1, 'id': 'WBAN:25309', 'elevationUnit': 'METERS', 'longitude': -134.55606}]}\n"
     ]
    }
   ],
   "source": [
    "# Define the location (latitude and longitude of Juneau, AK)\n",
    "latitude = 58.3019\n",
    "longitude = -134.4197\n",
    "radius = 50  # radius in kilometers from the lat/lon point to search the stations\n",
    "\n",
    "# Define the base URL and parameters\n",
    "base_url = \"https://www.ncdc.noaa.gov/cdo-web/api/v2/stations\"\n",
    "params = {\n",
    "    # \"datasetid\": \"GHCNh\",  # For hourly data (Global Historical Climatology Network - Hourly)\n",
    "    \"datasetid\": \"LCD\", # For local observations (Local Climatological Data)\n",
    "    \"extent\": f\"{latitude-radius/111:.4f},{longitude-radius/111:.4f},{latitude+radius/111:.4f},{longitude+radius/111:.4f}\",\n",
    "    \"limit\": 1000,  # Maximum number of results\n",
    "}\n",
    "\n",
    "# Make the API request\n",
    "response = requests.get(base_url, headers=headers, params=params)\n",
    "\n",
    "# Check the response\n",
    "if response.status_code == 200:\n",
    "    stations = response.json()\n",
    "    print(stations)\n",
    "else:\n",
    "    print(f\"Request failed with status code {response.status_code}\")\n",
    "    print(f\"Response content: {response.text}\")"
   ]
  },
  {
   "cell_type": "markdown",
   "metadata": {},
   "source": [
    "So, it looks like Juneau Airport (station_id: `WBAN:25309`) is the only station which we can grab with the archive using `LCD`. \n",
    "The request came up empty for `GHCNh`. If we expanded this to 100km, then we picked up further stations. \n",
    "\n",
    "This still did not resolve the issue of finding Powder Patch in the archive to request data from..."
   ]
  },
  {
   "cell_type": "markdown",
   "metadata": {},
   "source": [
    "### Try downloading data from the Airport Station, "
   ]
  },
  {
   "cell_type": "code",
   "execution_count": 27,
   "metadata": {},
   "outputs": [
    {
     "name": "stdout",
     "output_type": "stream",
     "text": [
      "Request failed with status code 500\n",
      "Response content: <?xml version=\"1.0\" encoding=\"UTF-8\" standalone=\"yes\"?><response><statusCode>500</statusCode><userMessage>An error occured while servicing your request.</userMessage><developerMessage>An error occured while servicing your request.</developerMessage></response>\n"
     ]
    }
   ],
   "source": [
    "# Define the station ID and dataset\n",
    "station_id = \"WBAN:25309\" # Juneau Airport Station (WBAN:25309)\n",
    "dataset_id = \"LCD\"\n",
    "\n",
    "# Define the date range for data retrieval\n",
    "start_date = \"2023-01-01\"  # YYYY-MM-DD\n",
    "end_date = \"2023-01-30\"    \n",
    "\n",
    "# Define the base URL and parameters\n",
    "base_url = \"https://www.ncdc.noaa.gov/cdo-web/api/v2/data\"\n",
    "params = {\n",
    "    \"datasetid\": dataset_id,\n",
    "    \"stationid\": station_id,\n",
    "    \"startdate\": start_date,\n",
    "    \"enddate\": end_date,\n",
    "    \"units\": \"metric\",  # metric, standard, or imperial\n",
    "    \"limit\": 1000,      # maximum number of records per request\n",
    "}\n",
    "\n",
    "# Make the API request\n",
    "response = requests.get(base_url, headers=headers, params=params)\n",
    "\n",
    "# RUN FOR SAVING TO A JSON FILE --------------------------------------\n",
    "# Check the response\n",
    "if response.status_code == 200:\n",
    "    data = response.json()\n",
    "    # Save the data to a file or process it\n",
    "    with open(\"juneau_airport_data.json\", \"w\") as file:\n",
    "        import json\n",
    "        json.dump(data, file, indent=4)\n",
    "    print(\"Data successfully downloaded and saved to 'juneau_airport_data.json'\")\n",
    "else:\n",
    "    print(f\"Request failed with status code {response.status_code}\")\n",
    "    print(f\"Response content: {response.text}\")\n",
    "    \n",
    "\n",
    "# RUN FOR SAVING TO A NETCDF INSTEAD ---------------------------------\n",
    "# # Check the response\n",
    "# if response.status_code == 200:\n",
    "#     data = response.json().get(\"results\", [])\n",
    "#     if not data:\n",
    "#         print(\"No data found for the specified range.\")\n",
    "#     else:\n",
    "#         # Convert the data to a Pandas DataFrame\n",
    "#         df = pd.DataFrame(data)\n",
    "\n",
    "#         # Convert the DataFrame to an xarray Dataset\n",
    "#         ds = xr.Dataset.from_dataframe(df.set_index(\"date\"))  # Index by the 'date' column\n",
    "\n",
    "#         # Add metadata (optional)\n",
    "#         ds.attrs[\"station_id\"] = station_id\n",
    "#         ds.attrs[\"source\"] = \"NOAA LCD Dataset\"\n",
    "#         ds.attrs[\"date_retrieved\"] = pd.Timestamp.now().isoformat()\n",
    "\n",
    "#         # Save as NetCDF\n",
    "#         netcdf_filename = \"juneau_airport_data.nc\"\n",
    "#         ds.to_netcdf(netcdf_filename)\n",
    "\n",
    "#         print(f\"Data successfully saved to '{netcdf_filename}'\")\n",
    "# else:\n",
    "#     print(f\"Request failed with status code {response.status_code}\")\n",
    "#     print(f\"Response content: {response.text}\")"
   ]
  },
  {
   "cell_type": "code",
   "execution_count": null,
   "metadata": {},
   "outputs": [],
   "source": [
    "ds = xr.open_dataset(\"juneau_airport_data.nc\")\n",
    "print(ds)"
   ]
  },
  {
   "cell_type": "code",
   "execution_count": null,
   "metadata": {},
   "outputs": [],
   "source": []
  },
  {
   "cell_type": "markdown",
   "metadata": {},
   "source": [
    "Now, try running for all of Alaska instead"
   ]
  },
  {
   "cell_type": "code",
   "execution_count": 8,
   "metadata": {},
   "outputs": [
    {
     "name": "stdout",
     "output_type": "stream",
     "text": [
      "Request failed with status code 500\n",
      "Response content: <?xml version=\"1.0\" encoding=\"UTF-8\" standalone=\"yes\"?><response><statusCode>500</statusCode><userMessage>An unexpected error occured while servicing your request.</userMessage><developerMessage>An unexpected error occured while servicing your request.</developerMessage></response>\n"
     ]
    }
   ],
   "source": [
    "# api_token = \"your_api_token_here\"\n",
    "api_token = \"jTMjURmuxbSzHpMdeKfqdrifCRPSRNIE\" # created a personal token here: https://www.ncdc.noaa.gov/cdo-web/token\n",
    "\n",
    "headers = {'token': api_token}\n",
    "\n",
    "# Define station ID and time period\n",
    "location_id = \"FIPS:02\" # Alaska state FIPS code\n",
    "start_date = \"2023-10-01\"\n",
    "end_date = \"2023-10-15\"\n",
    "dataset = \"GHCNh\"  # For hourly data (Global Historical Climatology Network - Hourly)  (cite NCEI)\n",
    "\n",
    "# Create the url for the API request\n",
    "base_url = \"https://www.ncdc.noaa.gov/cdo-web/api/v2/data\"\n",
    "params = {\n",
    "    \"datasetid\": dataset,\n",
    "    \"locationid\": location_id,\n",
    "    \"startdate\": start_date,\n",
    "    \"enddate\": end_date,\n",
    "    \"limit\": 1000, # maximum records per request\n",
    "    \"units\": \"metric\", # options: metric, standard or imperial\n",
    "}\n",
    "\n",
    "# Make the API request\n",
    "response = requests.get(base_url, headers=headers, params=params)\n",
    "\n",
    "# Check the response status code\n",
    "if response.status_code == 200:\n",
    "    try:\n",
    "        # Parse the JSON data\n",
    "        data = response.json()\n",
    "        print(data)\n",
    "    except ValueError as e:\n",
    "        print(f\"Error decoding JSON: {e}\")\n",
    "else:\n",
    "    print(f\"Request failed with status code {response.status_code}\")\n",
    "    print(f\"Response content: {response.text}\")"
   ]
  },
  {
   "cell_type": "code",
   "execution_count": null,
   "metadata": {},
   "outputs": [],
   "source": [
    "## previous more simple code.... commented out for now to create a more complex url \n",
    "# url = f\"https://www.ncdc.noaa.gov/cdo-web/api/v2/data?station={station_id}&startDate={start_date}&endDate={end_date}&dataset={dataset}\"\n",
    "\n",
    "# response = requests.get(url, headers=headers)\n",
    "# data = response.json()\n",
    "\n",
    "# print(data)"
   ]
  },
  {
   "cell_type": "code",
   "execution_count": null,
   "metadata": {},
   "outputs": [],
   "source": []
  }
 ],
 "metadata": {
  "kernelspec": {
   "display_name": "requests",
   "language": "python",
   "name": "python3"
  },
  "language_info": {
   "codemirror_mode": {
    "name": "ipython",
    "version": 3
   },
   "file_extension": ".py",
   "mimetype": "text/x-python",
   "name": "python",
   "nbconvert_exporter": "python",
   "pygments_lexer": "ipython3",
   "version": "3.13.1"
  },
  "orig_nbformat": 4
 },
 "nbformat": 4,
 "nbformat_minor": 2
}

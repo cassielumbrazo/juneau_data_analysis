{
 "cells": [
  {
   "attachments": {},
   "cell_type": "markdown",
   "metadata": {},
   "source": [
    "### API Request to Load Data from the NWS Data Downloads \n",
    "\n",
    "Notebook contents \n",
    "* Creating network connection to NWS website to download historical site data\n",
    "\n",
    "created by Cassie Lumbrazo\\\n",
    "last updated: Jan 2025\\\n",
    "run location: UAS linux\\\n",
    "python environment: **requests**"
   ]
  },
  {
   "cell_type": "code",
   "execution_count": 2,
   "metadata": {},
   "outputs": [],
   "source": [
    "# import packages \n",
    "%matplotlib inline\n",
    "\n",
    "# plotting packages \n",
    "import matplotlib as mpl\n",
    "import matplotlib.pyplot as plt\n",
    "import seaborn as sns \n",
    "\n",
    "sns.set_theme()\n",
    "# plt.rcParams['figure.figsize'] = [12,6] #overriding size\n",
    "\n",
    "# data packages \n",
    "import pandas as pd\n",
    "import numpy as np\n",
    "import xarray as xr\n",
    "from datetime import datetime\n",
    "\n",
    "import scipy\n",
    "from matplotlib.patches import Patch\n",
    "from matplotlib.colors import ListedColormap\n",
    "from matplotlib import ticker"
   ]
  },
  {
   "cell_type": "code",
   "execution_count": 3,
   "metadata": {},
   "outputs": [
    {
     "data": {
      "text/plain": [
       "'/home/cassie/python/repos/juneau_data_analysis'"
      ]
     },
     "execution_count": 3,
     "metadata": {},
     "output_type": "execute_result"
    }
   ],
   "source": [
    "pwd"
   ]
  },
  {
   "cell_type": "code",
   "execution_count": 4,
   "metadata": {},
   "outputs": [],
   "source": [
    "# # Paths for local machine\n",
    "# ds = xr.open_dataset('C:\\\\Users\\\\Lumbr\\\\OneDrive - UW/Documents\\\\Washington\\\\EasternCascades\\\\Python\\\\CER_treatment_manuscript\\\\cer_treatment_region_dataset_all_variables.nc') "
   ]
  },
  {
   "cell_type": "markdown",
   "metadata": {},
   "source": [
    "Created a new environment called \"requests\" for the requests package, then proceed"
   ]
  },
  {
   "cell_type": "code",
   "execution_count": 4,
   "metadata": {},
   "outputs": [],
   "source": [
    "import requests"
   ]
  },
  {
   "cell_type": "code",
   "execution_count": 10,
   "metadata": {},
   "outputs": [],
   "source": [
    "# Different dataset_id options, \n",
    "# LCD: Local Climatological Data for local observations\n",
    "# GHCND: Global Historical Climatology Network - Daily\n",
    "# GHCNh: Global Historical Climatology Network - Hourly\n",
    "# ISD: Integrated Surface Dataset for global hourly data"
   ]
  },
  {
   "cell_type": "code",
   "execution_count": 13,
   "metadata": {},
   "outputs": [
    {
     "name": "stdout",
     "output_type": "stream",
     "text": [
      "Request failed with status code 503\n",
      "Response content: <!DOCTYPE HTML PUBLIC \"-//IETF//DTD HTML 2.0//EN\">\n",
      "<html><head>\n",
      "<title>503 Service Unavailable</title>\n",
      "</head><body>\n",
      "<h1>Service Unavailable</h1>\n",
      "<p>The server is temporarily unable to service your\n",
      "request due to maintenance downtime or capacity\n",
      "problems. Please try again later.</p>\n",
      "<p>Additionally, a 503 Service Unavailable\n",
      "error was encountered while trying to use an ErrorDocument to handle the request.</p>\n",
      "</body></html>\n",
      "\n"
     ]
    }
   ],
   "source": [
    "# api_token = \"your_api_token_here\"\n",
    "api_token = \"jTMjURmuxbSzHpMdeKfqdrifCRPSRNIE\"\n",
    "\n",
    "headers = {'token': api_token}\n",
    "\n",
    "# Define station ID and time period\n",
    "station_id = \"PPSA2\" # powder patch eaglerest station (cite Iowa Environmental Mesonet)\n",
    "location_id = \"FIPS:02\" # Alaska state FIPS code\n",
    "start_date = \"2023-10-01\"\n",
    "end_date = \"2023-10-15\"\n",
    "dataset = \"GHCNh\"  # For hourly data (Global Historical Climatology Network - Hourly)  (cite NCEI)\n",
    "# dataset = \"LCD\"\n",
    "\n",
    "# Create the url for the API request\n",
    "base_url = \"https://www.ncdc.noaa.gov/cdo-web/api/v2/data\"\n",
    "params = {\n",
    "    \"datasetid\": dataset,\n",
    "    \"locationid\": location_id,\n",
    "    # \"stationid\": station_id,\n",
    "    \"startdate\": start_date,\n",
    "    \"enddate\": end_date,\n",
    "    \"limit\": 1000, # maximum records per request\n",
    "    \"units\": \"metric\", # options: metric, standard or imperial\n",
    "}\n",
    "\n",
    "# Make the API request\n",
    "response = requests.get(base_url, headers=headers, params=params)\n",
    "\n",
    "# Check the response status code\n",
    "if response.status_code == 200:\n",
    "    try:\n",
    "        # Parse the JSON data\n",
    "        data = response.json()\n",
    "        print(data)\n",
    "    except ValueError as e:\n",
    "        print(f\"Error decoding JSON: {e}\")\n",
    "else:\n",
    "    print(f\"Request failed with status code {response.status_code}\")\n",
    "    print(f\"Response content: {response.text}\")"
   ]
  },
  {
   "cell_type": "code",
   "execution_count": null,
   "metadata": {},
   "outputs": [],
   "source": []
  },
  {
   "cell_type": "code",
   "execution_count": null,
   "metadata": {},
   "outputs": [],
   "source": [
    "## previous more simple code.... commented out for now to create a more complex url \n",
    "# url = f\"https://www.ncdc.noaa.gov/cdo-web/api/v2/data?station={station_id}&startDate={start_date}&endDate={end_date}&dataset={dataset}\"\n",
    "\n",
    "# response = requests.get(url, headers=headers)\n",
    "# data = response.json()\n",
    "\n",
    "# print(data)"
   ]
  },
  {
   "cell_type": "code",
   "execution_count": null,
   "metadata": {},
   "outputs": [],
   "source": []
  }
 ],
 "metadata": {
  "kernelspec": {
   "display_name": "requests",
   "language": "python",
   "name": "python3"
  },
  "language_info": {
   "codemirror_mode": {
    "name": "ipython",
    "version": 3
   },
   "file_extension": ".py",
   "mimetype": "text/x-python",
   "name": "python",
   "nbconvert_exporter": "python",
   "pygments_lexer": "ipython3",
   "version": "3.13.1"
  },
  "orig_nbformat": 4
 },
 "nbformat": 4,
 "nbformat_minor": 2
}
